{
  "nbformat": 4,
  "nbformat_minor": 0,
  "metadata": {
    "colab": {
      "name": "ED_BERT.ipynb",
      "provenance": []
    },
    "kernelspec": {
      "name": "python3",
      "display_name": "Python 3"
    },
    "language_info": {
      "name": "python"
    },
    "accelerator": "GPU"
  },
  "cells": [
    {
      "cell_type": "code",
      "metadata": {
        "id": "ynq5sFPECrbT"
      },
      "source": [
        "from google.colab import drive\n",
        "drive.mount('/content/drive')"
      ],
      "execution_count": null,
      "outputs": []
    },
    {
      "cell_type": "markdown",
      "metadata": {
        "id": "zta6iCpySzpF"
      },
      "source": [
        "### **IMPORTS AND DOWNLOADS**"
      ]
    },
    {
      "cell_type": "code",
      "metadata": {
        "id": "Ulxa8gXcZV9J"
      },
      "source": [
        "!pip install  gast==0.3.3\n",
        "!pip install grpcio~=1.32.0\n",
        "!pip install h5py~=2.10.0\n",
        "!pip install tensorflow-estimator==2.4.0"
      ],
      "execution_count": null,
      "outputs": []
    },
    {
      "cell_type": "code",
      "metadata": {
        "id": "WaaST8ILn0oN"
      },
      "source": [
        "!pip install tensorflow-gpu==2.4.0 "
      ],
      "execution_count": null,
      "outputs": []
    },
    {
      "cell_type": "code",
      "metadata": {
        "id": "zCRkokr-n26J"
      },
      "source": [
        "!pip install tqdm  >> /dev/null"
      ],
      "execution_count": null,
      "outputs": []
    },
    {
      "cell_type": "code",
      "metadata": {
        "id": "-zgaripn6hjX"
      },
      "source": [
        "!pip install bert-for-tf2 >> /dev/null"
      ],
      "execution_count": null,
      "outputs": []
    },
    {
      "cell_type": "code",
      "metadata": {
        "id": "9nd4u1Qz6ms5"
      },
      "source": [
        "!pip install sentencepiece >> /dev/null"
      ],
      "execution_count": null,
      "outputs": []
    },
    {
      "cell_type": "code",
      "metadata": {
        "id": "sr3XN5n4bcnK"
      },
      "source": [
        "!pip install jsonlines"
      ],
      "execution_count": null,
      "outputs": []
    },
    {
      "cell_type": "code",
      "metadata": {
        "id": "ZiwpMISiUKJD"
      },
      "source": [
        "import os\n",
        "import math\n",
        "import datetime\n",
        "import jsonlines\n",
        "from tqdm import tqdm\n",
        "\n",
        "import pandas as pd\n",
        "import numpy as np\n",
        "import nltk\n",
        "nltk.download('punkt')\n",
        "nltk.download('stopwords')\n",
        "from nltk.corpus import stopwords\n",
        "from nltk.stem import PorterStemmer\n",
        "from nltk.tokenize import word_tokenize\n",
        "import tensorflow as tf\n",
        "from tensorflow import keras\n",
        "\n",
        "import bert\n",
        "from bert import BertModelLayer\n",
        "from bert.loader import StockBertConfig, map_stock_config_to_params, load_stock_weights\n",
        "from bert.tokenization.bert_tokenization import FullTokenizer\n",
        "\n",
        "import seaborn as sns\n",
        "from pylab import rcParams\n",
        "import matplotlib.pyplot as plt\n",
        "from matplotlib.ticker import MaxNLocator\n",
        "from matplotlib import rc\n",
        "\n",
        "from sklearn.metrics import confusion_matrix, classification_report\n",
        "\n",
        "from sklearn.model_selection import train_test_split\n",
        "\n",
        "\n",
        "\n",
        "%matplotlib inline\n",
        "%config InlineBackend.figure_format='retina'\n",
        "\n",
        "sns.set(style='whitegrid', palette='muted', font_scale=1.2)\n",
        "\n",
        "COLORS = [\"#01BEFE\", \"#FFDD00\", \"#FF7D00\", \"#FF006D\", \"#ADFF02\", \"#8F00FF\"]\n",
        "\n",
        "sns.set_palette(sns.color_palette(COLORS))\n",
        "\n",
        "rcParams['figure.figsize'] = 12, 8\n",
        "\n",
        "RANDOM_SEED = 42\n",
        "\n",
        "np.random.seed(RANDOM_SEED)\n",
        "tf.random.set_seed(RANDOM_SEED)"
      ],
      "execution_count": null,
      "outputs": []
    },
    {
      "cell_type": "markdown",
      "metadata": {
        "id": "AEukRuUOWUW_"
      },
      "source": [
        "# **DATASET LOADING**"
      ]
    },
    {
      "cell_type": "code",
      "metadata": {
        "id": "66eEdCmMZLYS"
      },
      "source": [
        "\n",
        "\n",
        "def porters_algo(sentence):\n",
        "  ps = PorterStemmer()\n",
        "  a=\"\"\n",
        "  \n",
        "  w = word_tokenize(sentence)\n",
        "  for i in w:\n",
        "    i=ps.stem(i)\n",
        "    a=a+i+\" \"\n",
        "  return a\n"
      ],
      "execution_count": null,
      "outputs": []
    },
    {
      "cell_type": "code",
      "metadata": {
        "id": "9gIeCLQuFb7Y"
      },
      "source": [
        "stop_words = stopwords.words(\"english\")"
      ],
      "execution_count": null,
      "outputs": []
    },
    {
      "cell_type": "code",
      "metadata": {
        "id": "6NPTdELeHcjr"
      },
      "source": [
        "dat = []\n",
        "val = []\n",
        "df = pd.read_csv('/content/drive/MyDrive/DATASETS/gab.csv', error_bad_lines=False)\n",
        "del df[\"id\"]\n",
        "dataf=pd.DataFrame(df)\n",
        "dataf\n",
        "\n",
        "for i in range(len(dataf)):\n",
        "  if dataf.loc[i,\"hate_speech_idx\"]==\"[1]\" or dataf.loc[i,\"hate_speech_idx\"]==\"[2]\" :\n",
        "    dat.append(dataf.loc[i,\"text\"])\n",
        "    val.append(\"1\")\n",
        "\n",
        "for i in range(len(dat)) :\n",
        "  dat[i]=dat[i].replace(\"1.\",\"\")\n",
        "\n",
        "with jsonlines.open('/content/drive/MyDrive/DATASETS/Dataset for Detection of Cyber-Trolls.json') as reader:\n",
        "  for i in range(20000):\n",
        "    b = reader.read()\n",
        "    \n",
        "    dat.append(b['content'])\n",
        "    val.append(b['annotation']['label'][0])\n",
        "\n",
        "\n",
        "\n",
        "dict0 = {\"Sent\":dat,\"Label\":val}\n",
        "dataset3 = pd.DataFrame(dict0)"
      ],
      "execution_count": null,
      "outputs": []
    },
    {
      "cell_type": "code",
      "metadata": {
        "id": "8Ghqw5-MKrKS"
      },
      "source": [
        "for j in range(len(dataset3)):\n",
        "  i=dataset3.loc[j,\"Sent\"]\n",
        "  i = i.lower()\n",
        "  i = word_tokenize(i)\n",
        "  a = [w for w in i if not w in stop_words and w.isalnum()]\n",
        "  empty=\"\"\n",
        "  for x in a :\n",
        "    empty=empty+\" \" +x\n",
        "  final=porters_algo(empty)\n",
        "  dataset3.loc[j,\"Sent\"]=final\n",
        "\n",
        "train, test = train_test_split(dataset3, test_size=0.2, random_state=1000)"
      ],
      "execution_count": null,
      "outputs": []
    },
    {
      "cell_type": "code",
      "metadata": {
        "id": "DasfjURgVCc8"
      },
      "source": [
        "bert_file = \"/content/drive/MyDrive/BERT/lightmodel/bert_model.ckpt\"\n",
        "config_file = \"/content/drive/MyDrive/BERT/lightmodel/bert_config.json\"\n",
        "token = FullTokenizer(vocab_file=\"/content/drive/MyDrive/BERT/lightmodel/vocab.txt\")\n"
      ],
      "execution_count": null,
      "outputs": []
    },
    {
      "cell_type": "markdown",
      "metadata": {
        "id": "N3dxsjcNWxec"
      },
      "source": [
        "# **TRAINING**"
      ]
    },
    {
      "cell_type": "code",
      "metadata": {
        "id": "hvzWWHDlLJ9h"
      },
      "source": [
        "class hate:\n",
        "  dat = \"Sent\"\n",
        "  label = \"Label\"\n",
        "\n",
        "  def __init__(self, train, test, token: FullTokenizer, classes, max_length=192):\n",
        "    self.token = token\n",
        "    self.max_length = 0\n",
        "    self.classes = classes\n",
        "    \n",
        "    ((self.train_x, self.train_y), (self.test_x, self.test_y)) = map(self.prep, [train, test])\n",
        "\n",
        "    print(\"max seq_len\", self.max_length)\n",
        "    self.max_length = min(self.max_length, max_length)\n",
        "    self.train_x, self.test_x = map(self.add_padding, [self.train_x, self.test_x])\n",
        "\n",
        "  def prep(self, df):\n",
        "    x, y = [], []\n",
        "    \n",
        "    for _, row in tqdm(df.iterrows()):\n",
        "      text, label = row[hate.dat], row[hate.label]\n",
        "      tok = self.token.tokenize(text)\n",
        "      tok = [\"[CLS]\"] + tok + [\"[SEP]\"]\n",
        "      tids = self.token.convert_tokens_to_ids(tok)\n",
        "      self.max_length = max(self.max_length, len(tids))\n",
        "      x.append(tids)\n",
        "      y.append(self.classes.index(label))\n",
        "\n",
        "    return np.array(x), np.array(y)\n",
        "\n",
        "  def add_padding(self, ids):\n",
        "    x = []\n",
        "    for inputid in ids:\n",
        "      inputid = inputid[:min(len(inputid), self.max_length - 2)]\n",
        "      inputid = inputid + [0] * (self.max_length - len(inputid))\n",
        "      x.append(np.array(inputid))\n",
        "    return np.array(x)\n"
      ],
      "execution_count": null,
      "outputs": []
    },
    {
      "cell_type": "code",
      "metadata": {
        "id": "OR23TyAAM72d"
      },
      "source": [
        "def new_model(max_length, bert_file):\n",
        "\n",
        "  with tf.io.gfile.GFile(config_file, \"r\") as reader:\n",
        "      bc = StockBertConfig.from_json_string(reader.read())\n",
        "      bert_parameters = map_stock_config_to_params(bc)\n",
        "      bert_parameters.adapter_size = None\n",
        "      bert = BertModelLayer.from_params(bert_parameters, name=\"bert\")\n",
        "        \n",
        "  inputid = keras.layers.Input(shape=(max_length, ), dtype='int32', name=\"inputid\")\n",
        "  bert_output = bert(inputid)\n",
        "\n",
        "  print(\"bert shape\", bert_output.shape)\n",
        "\n",
        "  out = keras.layers.Lambda(lambda seq: seq[:, 0, :])(bert_output)\n",
        "  out = keras.layers.Dropout(0.5)(out)\n",
        "  logit = keras.layers.Dense(units=768, activation=tf.keras.layers.ELU(),kernel_regularizer=tf.keras.regularizers.l1_l2(l1=0.01, l2=0.01), bias_regularizer=tf.keras.regularizers.l1_l2(l1=0.01,l2=0.01))(out)\n",
        "  logit = keras.layers.Dropout(0.5)(logit)\n",
        "  logit = keras.layers.Dropout(0.5)(logit)\n",
        "  logit = keras.layers.Dense(units=len(classes), activation=\"softmax\",kernel_regularizer=tf.keras.regularizers.l1_l2(l1=0.01, l2=0.01), bias_regularizer=tf.keras.regularizers.l1_l2(l1=0.01,l2=0.01))(logit)\n",
        "\n",
        "  model = keras.Model(inputs=inputid, outputs=logit)\n",
        "  model.build(input_shape=(None, max_length))\n",
        "\n",
        "  load_stock_weights(bert, bert_file)\n",
        "        \n",
        "  return model"
      ],
      "execution_count": null,
      "outputs": []
    },
    {
      "cell_type": "code",
      "metadata": {
        "colab": {
          "base_uri": "https://localhost:8080/"
        },
        "id": "ww9kNV5tM_Pk",
        "outputId": "324eb8d4-0bb1-4af3-f099-e6efe1adf128"
      },
      "source": [
        "classes = ['1','0']\n",
        "model_data = hate(train, test, token, classes, max_length=128)"
      ],
      "execution_count": null,
      "outputs": [
        {
          "output_type": "stream",
          "text": [
            "21890it [00:07, 3099.14it/s]\n",
            "/usr/local/lib/python3.7/dist-packages/ipykernel_launcher.py:28: VisibleDeprecationWarning: Creating an ndarray from ragged nested sequences (which is a list-or-tuple of lists-or-tuples-or ndarrays with different lengths or shapes) is deprecated. If you meant to do this, you must specify 'dtype=object' when creating the ndarray\n",
            "5473it [00:01, 3065.19it/s]\n"
          ],
          "name": "stderr"
        },
        {
          "output_type": "stream",
          "text": [
            "max seq_len 799\n"
          ],
          "name": "stdout"
        }
      ]
    },
    {
      "cell_type": "code",
      "metadata": {
        "colab": {
          "base_uri": "https://localhost:8080/"
        },
        "id": "ddLdbBWnNe3m",
        "outputId": "7761aff0-8e3b-473d-f5ab-9f4e7ee985f9"
      },
      "source": [
        "model = new_model(model_data.max_length, bert_file)"
      ],
      "execution_count": null,
      "outputs": [
        {
          "output_type": "stream",
          "text": [
            "bert shape (None, 128, 768)\n",
            "Done loading 36 BERT weights from: /content/drive/MyDrive/BERT/lightmodel/bert_model.ckpt into <bert.model.BertModelLayer object at 0x7fe4895511d0> (prefix:bert). Count of weights not found in the checkpoint was: [0]. Count of weights with mismatched shape: [0]\n",
            "Unused weights from checkpoint: \n",
            "\tbert/embeddings/token_type_embeddings\n",
            "\tbert/pooler/dense/bias\n",
            "\tbert/pooler/dense/kernel\n",
            "\tcls/predictions/output_bias\n",
            "\tcls/predictions/transform/LayerNorm/beta\n",
            "\tcls/predictions/transform/LayerNorm/gamma\n",
            "\tcls/predictions/transform/dense/bias\n",
            "\tcls/predictions/transform/dense/kernel\n",
            "\tcls/seq_relationship/output_bias\n",
            "\tcls/seq_relationship/output_weights\n"
          ],
          "name": "stdout"
        }
      ]
    },
    {
      "cell_type": "code",
      "metadata": {
        "colab": {
          "base_uri": "https://localhost:8080/"
        },
        "id": "hZbEhi6wOfa2",
        "outputId": "091c55b4-e9d4-4691-fbd3-f7a38c6e118d"
      },
      "source": [
        "model.compile(\n",
        "  optimizer=keras.optimizers.RMSprop(1e-4),\n",
        "  loss=keras.losses.SparseCategoricalCrossentropy(from_logits=True),\n",
        "  metrics=[keras.metrics.SparseCategoricalAccuracy(name=\"acc\")]\n",
        ")\n",
        "model.summary()\n"
      ],
      "execution_count": null,
      "outputs": [
        {
          "output_type": "stream",
          "text": [
            "Model: \"model\"\n",
            "_________________________________________________________________\n",
            "Layer (type)                 Output Shape              Param #   \n",
            "=================================================================\n",
            "inputid (InputLayer)         [(None, 128)]             0         \n",
            "_________________________________________________________________\n",
            "bert (BertModelLayer)        (None, 128, 768)          38011392  \n",
            "_________________________________________________________________\n",
            "lambda (Lambda)              (None, 768)               0         \n",
            "_________________________________________________________________\n",
            "dropout (Dropout)            (None, 768)               0         \n",
            "_________________________________________________________________\n",
            "dense (Dense)                (None, 768)               590592    \n",
            "_________________________________________________________________\n",
            "dropout_1 (Dropout)          (None, 768)               0         \n",
            "_________________________________________________________________\n",
            "dropout_2 (Dropout)          (None, 768)               0         \n",
            "_________________________________________________________________\n",
            "dense_1 (Dense)              (None, 2)                 1538      \n",
            "=================================================================\n",
            "Total params: 38,603,522\n",
            "Trainable params: 38,603,522\n",
            "Non-trainable params: 0\n",
            "_________________________________________________________________\n"
          ],
          "name": "stdout"
        }
      ]
    },
    {
      "cell_type": "code",
      "metadata": {
        "colab": {
          "base_uri": "https://localhost:8080/"
        },
        "id": "XLxbvEdTOiQk",
        "outputId": "a46ddcb4-3d8a-4458-c82c-762d67b93cc0"
      },
      "source": [
        "history = model.fit(\n",
        "  x=model_data.train_x, \n",
        "  y=model_data.train_y,\n",
        "  validation_split=0.1,\n",
        "  batch_size=16,\n",
        "  shuffle=True,\n",
        "  epochs=7,\n",
        "  )"
      ],
      "execution_count": null,
      "outputs": [
        {
          "output_type": "stream",
          "text": [
            "Epoch 1/7\n",
            "1232/1232 [==============================] - 147s 114ms/step - loss: 83.4529 - acc: 0.7083 - val_loss: 0.8387 - val_acc: 0.7995\n",
            "Epoch 2/7\n",
            "1232/1232 [==============================] - 139s 113ms/step - loss: 0.8113 - acc: 0.8162 - val_loss: 0.7662 - val_acc: 0.8301\n",
            "Epoch 3/7\n",
            "1232/1232 [==============================] - 139s 113ms/step - loss: 0.7544 - acc: 0.8578 - val_loss: 0.7527 - val_acc: 0.8488\n",
            "Epoch 4/7\n",
            "1232/1232 [==============================] - 139s 113ms/step - loss: 0.6912 - acc: 0.8940 - val_loss: 0.7533 - val_acc: 0.8657\n",
            "Epoch 5/7\n",
            "1232/1232 [==============================] - 139s 113ms/step - loss: 0.6309 - acc: 0.9261 - val_loss: 0.7589 - val_acc: 0.8748\n",
            "Epoch 6/7\n",
            "1232/1232 [==============================] - 139s 113ms/step - loss: 0.5912 - acc: 0.9458 - val_loss: 0.6817 - val_acc: 0.8986\n",
            "Epoch 7/7\n",
            "1232/1232 [==============================] - 139s 113ms/step - loss: 0.5746 - acc: 0.9528 - val_loss: 0.7672 - val_acc: 0.8995\n"
          ],
          "name": "stdout"
        }
      ]
    },
    {
      "cell_type": "code",
      "metadata": {
        "colab": {
          "base_uri": "https://localhost:8080/"
        },
        "id": "UoMVWiCKWFn2",
        "outputId": "6fe6d358-42a8-4f76-af0a-02dbf87f32f5"
      },
      "source": [
        "traing_accuracy = model.evaluate(model_data.train_x, model_data.train_y)\n",
        "testing_accuracy =  model.evaluate(model_data.test_x, model_data.test_y)\n",
        "\n",
        "print(\"train acc\", traing_accuracy)\n",
        "print(\"test acc\", testing_accuracy)\n"
      ],
      "execution_count": null,
      "outputs": [
        {
          "output_type": "stream",
          "text": [
            "685/685 [==============================] - 36s 52ms/step - loss: 0.5020 - acc: 0.9701\n",
            "172/172 [==============================] - 9s 52ms/step - loss: 0.7495 - acc: 0.9008\n",
            "train acc [0.5019806623458862, 0.970077633857727]\n",
            "test acc [0.749492883682251, 0.9007856845855713]\n"
          ],
          "name": "stdout"
        }
      ]
    },
    {
      "cell_type": "code",
      "metadata": {
        "id": "lkOGMWrxYfjJ"
      },
      "source": [
        "prediction = model.predict(model_data.test_x).argmax(axis=-1)\n",
        "print(classification_report(model_data.test_y, prediction, target_names=classes))"
      ],
      "execution_count": null,
      "outputs": []
    },
    {
      "cell_type": "markdown",
      "metadata": {
        "id": "AqEVThYwXcco"
      },
      "source": [
        "# **CHARTS**"
      ]
    },
    {
      "cell_type": "code",
      "metadata": {
        "id": "QYHfFzF0jkaw"
      },
      "source": [
        "res = plt.figure().gca()\n",
        "res.xaxis.set_major_locator(MaxNLocator(integer=True))\n",
        "\n",
        "res.plot(history.history['loss'])\n",
        "res.plot(history.history['val_loss'])\n",
        "plt.ylabel('Loss')\n",
        "plt.xlabel('Epochs')\n",
        "plt.legend(['TRAIN', 'TEST'])\n",
        "plt.title('Loss over training epochs')\n",
        "plt.show();\n"
      ],
      "execution_count": null,
      "outputs": []
    },
    {
      "cell_type": "code",
      "metadata": {
        "id": "ZJUTjfYRj-E6"
      },
      "source": [
        "res = plt.figure().gca()\n",
        "res.xaxis.set_major_locator(MaxNLocator(integer=True))\n",
        "\n",
        "res.plot(history.history['acc'])\n",
        "res.plot(history.history['val_acc'])\n",
        "plt.ylabel('Accuracy')\n",
        "plt.xlabel('Epochs')\n",
        "plt.legend(['TRAIN', 'TEST'])\n",
        "plt.title('Accuracy over training epochs')\n",
        "plt.show();"
      ],
      "execution_count": null,
      "outputs": []
    },
    {
      "cell_type": "code",
      "metadata": {
        "id": "0faUgjaNkTH6"
      },
      "source": [
        "ch = sns.countplot(dataset3.Label, palette=COLORS)\n",
        "plt.title(\"TEXT PER CLASS\")\n",
        "ch.set_xticklabels(ch.get_xticklabels(), rotation=30, horizontalalignment='right');"
      ],
      "execution_count": null,
      "outputs": []
    },
    {
      "cell_type": "code",
      "metadata": {
        "id": "uVAZmYmrk91g"
      },
      "source": [
        "confusion_matrix = confusion_matrix(model_data.test_y, prediction)\n",
        "confusion_matrix = pd.DataFrame(confusion_matrix, index=classes, columns=classes)\n"
      ],
      "execution_count": null,
      "outputs": []
    },
    {
      "cell_type": "code",
      "metadata": {
        "colab": {
          "base_uri": "https://localhost:8080/",
          "height": 509
        },
        "id": "SQXtkl_0lUIM",
        "outputId": "f07026b0-3cd1-4045-dfb5-1ec66fb6eac9"
      },
      "source": [
        "matrix = sns.heatmap(confusion_matrix, annot=True, fmt=\"d\")\n",
        "matrix.yaxis.set_ticklabels(matrix.yaxis.get_ticklabels(), rotation=0, ha='right')\n",
        "matrix.xaxis.set_ticklabels(matrix.xaxis.get_ticklabels(), rotation=30, ha='right')\n",
        "plt.ylabel('True label')\n",
        "plt.xlabel('Predicted label');"
      ],
      "execution_count": null,
      "outputs": [
        {
          "output_type": "display_data",
          "data": {
            "image/png": "[encoded data removed]",
            "text/plain": [
              "<Figure size 864x576 with 2 Axes>"
            ]
          },
          "metadata": {
            "tags": [],
            "image/png": {
              "width": 684,
              "height": 492
            }
          }
        }
      ]
    },
    {
      "cell_type": "markdown",
      "metadata": {
        "id": "j4NI6Zv0XBn5"
      },
      "source": [
        "# **LOADING TRAINED MODEL**"
      ]
    },
    {
      "cell_type": "code",
      "metadata": {
        "id": "uHwlOO24oF1h"
      },
      "source": [
        "new_model = tf.keras.models.load_model('/content/drive/MyDrive/BERT_FINAL/my_model')\n",
        "new_model.summary()"
      ],
      "execution_count": null,
      "outputs": []
    },
    {
      "cell_type": "code",
      "metadata": {
        "id": "NSg0WxIUoS5r"
      },
      "source": [
        "classes=['1', '0']\n",
        "token = FullTokenizer(vocab_file=\"/content/drive/MyDrive/BERT/lightmodel/vocab.txt\")"
      ],
      "execution_count": null,
      "outputs": []
    },
    {
      "cell_type": "code",
      "metadata": {
        "id": "ox0kFlckogXf"
      },
      "source": [
        "sentences = [\n",
        "  \" Dude they dont finish enclosing the fucking showers. I hate half assed jobs. Whats the reasononing behind it? Makes no sense. \",\n",
        "  \" i am sry sir    \"\n",
        "]\n",
        "\n",
        "preds = map(token.tokenize, sentences)\n",
        "preds = map(lambda tok: [\"[CLS]\"] + tok + [\"[SEP]\"], preds)\n",
        "pred_tokens = list(map(token.convert_tokens_to_ids, preds))\n",
        "\n",
        "pred_tokens = map(lambda tids: tids +[0]*(128-len(tids)),pred_tokens)\n",
        "pred_tokens = np.array(list(pred_tokens))\n",
        "\n",
        "predictions = new_model.predict(pred_tokens).argmax(axis=-1)\n",
        "hate=[\"HATE\",\"NOT HATE\"]\n",
        "\n",
        "for text, label in zip(sentences, predictions):\n",
        "  print(\"text:\", text, \"\\nintent:\", classes[label],\"\\nRESULT:\",hate[label])\n",
        "  print(\"\")"
      ],
      "execution_count": null,
      "outputs": []
    },
    {
      "cell_type": "code",
      "metadata": {
        "id": "w74rVE0YRmQP"
      },
      "source": [
        "def predict(s):\n",
        "  sentences=[s]\n",
        "  preds = map(token.tokenize, sentences)\n",
        "  preds = map(lambda tok: [\"[CLS]\"] + tok + [\"[SEP]\"], preds)\n",
        "  pred_tokens = list(map(token.convert_tokens_to_ids, preds))\n",
        "\n",
        "  pred_tokens = map(lambda tids: tids +[0]*(128-len(tids)),pred_tokens)\n",
        "  pred_tokens = np.array(list(pred_tokens))\n",
        "\n",
        "  predictions = new_model.predict(pred_tokens).argmax(axis=-1)\n",
        "  \n",
        "  \n",
        "\n",
        "  for  label in  predictions:\n",
        "      ans=classes[label]\n",
        "  return ans\n",
        "    \n",
        "    \n",
        "  "
      ],
      "execution_count": null,
      "outputs": []
    }
  ]
}